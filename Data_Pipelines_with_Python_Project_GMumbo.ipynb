{
  "nbformat": 4,
  "nbformat_minor": 0,
  "metadata": {
    "colab": {
      "provenance": []
    },
    "kernelspec": {
      "name": "python3",
      "display_name": "Python 3"
    },
    "language_info": {
      "name": "python"
    }
  },
  "cells": [
    {
      "cell_type": "markdown",
      "source": [
        "##Project Deliverable\n",
        "\n",
        "● A GitHub repository with a python file (.py) or notebook (.ipynb) with your solution.\n",
        "\n",
        "##Project Deliverable\n",
        "\n",
        "Telecom companies often have to extract billing data from multiple CSV files generated from\n",
        "various systems and transform it into a structured format for analysis and revenue reporting.\n",
        "This process can be time-consuming, error-prone, and hinder decision-making. Manually\n",
        "analyzing and reconciling billing data from different sources is a tedious task and often leads to\n",
        "delays in generating revenue reports. Thus, there is a need for an automated data pipeline that\n",
        "can extract billing data from multiple sources and transform it into a structured format for\n",
        "efficient analysis and revenue reporting.\n",
        "Guidelines\n",
        "\n",
        "Here are some guidelines and hints to help you create the data pipeline:\n",
        "\n",
        "● Determine the requirements: First, you need to define the requirements of the data\n",
        "pipeline, including the source and destination of the data, the type of data that needs to\n",
        "be processed, the transformations that need to be applied, and the output format.\n",
        "\n",
        "● Extract the data: Use Python to read the CSV files and extract the data.\n",
        "\n",
        "● Clean the data: Perform data cleaning on the extracted data to remove any missing\n",
        "values and outliers. For example, you can replace missing values with an appropriate\n",
        "value or remove them altogether.\n",
        "\n",
        "● Transform the data: Apply any necessary transformations on the data, such as data\n",
        "type conversion, data aggregation, and data filtering, to prepare the data for analysis.\n",
        "\n",
        "● Merge the datasets: Join the different datasets into a single dataset that can be used for\n",
        "analysis.\n",
        "\n",
        "● Load the data: Load the transformed data into a database or a file, such as a CSV file,\n",
        "that can be easily analyzed.\n",
        "\n",
        "● Automate the process: Automate the data pipeline by scheduling it to run at a specific\n",
        "time, such as daily or weekly so that it can update the analysis data automatically.\n",
        "\n",
        "● Test the pipeline: Test the data pipeline to ensure it produces the correct results. This\n",
        "can be done by comparing the results with the expected output or using a test dataset.\n",
        "\n",
        "● Optimize the pipeline: Optimize the data pipeline to improve performance and reduce\n",
        "errors. This can be done by optimizing the code, parallel processing, and reducing the\n",
        "data size.\n",
        "\n",
        "● Monitor the pipeline: Monitor the data pipeline to ensure that it runs smoothly and that\n",
        "there are no errors or issues.\n",
        "Datasets\n",
        "Here are three sample datasets (https://bit.ly/416WE1X) with billing data that can be joined. The\n",
        "datasets contain some missing values and outliers:\n",
        "\n",
        "#Dataset 1:\n",
        "\n",
        "● Customer ID (numeric)\n",
        "\n",
        "● Date of purchase (MM/DD/YYYY)\n",
        "\n",
        "● Total amount billed (numeric)\n",
        "\n",
        "● Payment status (categorical - paid, overdue, disputed)\n",
        "\n",
        "● Payment method (categorical - credit card, bank transfer, e-wallet)\n",
        "\n",
        "● Promo code (text)\n",
        "\n",
        "● Country of purchase (categorical)\n",
        "\n",
        "#Dataset 2:\n",
        "\n",
        "● Customer ID (numeric)\n",
        "\n",
        "● Date of payment (MM/DD/YYYY)\n",
        "\n",
        "● Amount paid (numeric)\n",
        "\n",
        "● Payment method (categorical - credit card, bank transfer, e-wallet)\n",
        "\n",
        "● Payment status (categorical - paid, overdue, disputed)\n",
        "\n",
        "● Late payment fee (numeric)\n",
        "\n",
        "● Country of payment (categorical)\n",
        "\n",
        "#Dataset 3:\n",
        "\n",
        "● Customer ID (numeric)\n",
        "\n",
        "● Date of refund (MM/DD/YYYY)\n",
        "\n",
        "● Refund amount (numeric)\n",
        "\n",
        "● Reason for refund (text)\n",
        "\n",
        "● Country of refund (categorical)\n",
        "\n",
        "#Notes:\n",
        "\n",
        "1. The datasets can be joined using Customer ID, Date of purchase/payment/refund, and\n",
        "country of purchase/payment/refund as keys.\n",
        "\n",
        "2. The datasets may contain missing values and outliers for some fields, such as the total\n",
        "amount billed or refund amount.\n",
        "\n",
        "3. The payment status may be missing or incomplete for some of the transactions.\n",
        "\n",
        "4. The promo code field may be empty for some of the purchases.\n",
        "\n",
        "5. The reason for the refund may be missing for some of the refund transactions."
      ],
      "metadata": {
        "id": "AXNTmW24GEVb"
      }
    },
    {
      "cell_type": "markdown",
      "source": [
        "##Data Importation"
      ],
      "metadata": {
        "id": "-5Ceqs5KH4nf"
      }
    },
    {
      "cell_type": "code",
      "execution_count": 1,
      "metadata": {
        "id": "tkOrkmrXE8CO"
      },
      "outputs": [],
      "source": [
        "# install pandas\n",
        "import pandas as pd\n",
        "import os"
      ]
    },
    {
      "cell_type": "code",
      "source": [
        "# Define the names of the CSV files\n",
        "csv_1 = 'dataset1.csv'\n",
        "csv_2 = 'dataset2.csv'\n",
        "csv_3 = 'dataset3.csv'"
      ],
      "metadata": {
        "id": "1erXHhHHI9LC"
      },
      "execution_count": 21,
      "outputs": []
    },
    {
      "cell_type": "code",
      "source": [
        "# Load the datasets\n",
        "dataset1 = pd.read_csv(csv_1)\n",
        "dataset2 = pd.read_csv(csv_2)\n",
        "dataset3 = pd.read_csv(csv_3)"
      ],
      "metadata": {
        "id": "kUJ6FtL2Jfxy"
      },
      "execution_count": 22,
      "outputs": []
    },
    {
      "cell_type": "code",
      "source": [
        "dataset1.columns"
      ],
      "metadata": {
        "colab": {
          "base_uri": "https://localhost:8080/"
        },
        "id": "ikGXO7i5KGV9",
        "outputId": "38506524-f5e2-4b3a-cc0f-93753fb0adfc"
      },
      "execution_count": 23,
      "outputs": [
        {
          "output_type": "execute_result",
          "data": {
            "text/plain": [
              "Index(['customer_id', 'date_of_purchase', 'total_amount_billed',\n",
              "       'payment_status', 'payment_method', 'promo_code',\n",
              "       'country_of_purchase'],\n",
              "      dtype='object')"
            ]
          },
          "metadata": {},
          "execution_count": 23
        }
      ]
    },
    {
      "cell_type": "code",
      "source": [
        "dataset2.columns"
      ],
      "metadata": {
        "colab": {
          "base_uri": "https://localhost:8080/"
        },
        "id": "L_UGQAIDKjZl",
        "outputId": "e24cde46-2cb8-4132-8586-cbedf02fbcc7"
      },
      "execution_count": 24,
      "outputs": [
        {
          "output_type": "execute_result",
          "data": {
            "text/plain": [
              "Index(['customer_id', 'date_of_payment', 'amount_paid', 'payment_method',\n",
              "       'payment_status', 'late_payment_fee', 'country_of_payment'],\n",
              "      dtype='object')"
            ]
          },
          "metadata": {},
          "execution_count": 24
        }
      ]
    },
    {
      "cell_type": "code",
      "source": [
        "dataset3.columns\n"
      ],
      "metadata": {
        "colab": {
          "base_uri": "https://localhost:8080/"
        },
        "id": "au1samJ2KpXk",
        "outputId": "db081146-fbab-4871-efa2-14d590d66905"
      },
      "execution_count": 25,
      "outputs": [
        {
          "output_type": "execute_result",
          "data": {
            "text/plain": [
              "Index(['customer_id', 'date_of_refund', 'refund_amount', 'reason_for_refund',\n",
              "       'country_of_refund'],\n",
              "      dtype='object')"
            ]
          },
          "metadata": {},
          "execution_count": 25
        }
      ]
    },
    {
      "cell_type": "markdown",
      "source": [
        "##Data Cleaning"
      ],
      "metadata": {
        "id": "oraIRZuBK3cY"
      }
    },
    {
      "cell_type": "code",
      "source": [
        "# Replace missing values in Total amount billed with 0\n",
        "\n",
        "dataset1['total_amount_billed'].fillna(value=0, inplace=True)\n",
        "\n",
        "# Replace missing values in Refund amount with 0\n",
        "\n",
        "dataset3['refund_amount'].fillna(value=0, inplace=True)"
      ],
      "metadata": {
        "id": "T-rLV6R2KvWq"
      },
      "execution_count": 26,
      "outputs": []
    },
    {
      "cell_type": "markdown",
      "source": [
        "##Data Merging"
      ],
      "metadata": {
        "id": "VyyUPDlOLPdk"
      }
    },
    {
      "cell_type": "code",
      "source": [
        "# Rename the columns\n",
        "\n",
        "dataset1 = dataset1.rename(columns={\"date_of_purchase\": \"date\", \"country_of_purchase\": \"country\"})\n",
        "dataset2 = dataset2.rename(columns={\"date_of_payment\": \"date\", \"country_of_payment\": \"country\"})\n",
        "dataset3 = dataset3.rename(columns={\"date_of_refund\": \"date\", \"country_of_refund\": \"country\"})\n",
        "\n",
        "merged_dataset = pd.merge(dataset1, dataset2, on=['customer_id','date','country'],\n",
        "                          how='outer', suffixes = ('_purchase', '_payment'))\n",
        "merged_dataset = pd.merge(merged_dataset, dataset3, on=['customer_id','date','country'], \n",
        "                          how='outer', suffixes = ('_pp', '_refund'))\n",
        "\n",
        "merged_dataset.head()"
      ],
      "metadata": {
        "colab": {
          "base_uri": "https://localhost:8080/",
          "height": 270
        },
        "id": "bTS3vtV2LSFz",
        "outputId": "13cb905e-7187-4b5a-f714-25e6645a532a"
      },
      "execution_count": 27,
      "outputs": [
        {
          "output_type": "execute_result",
          "data": {
            "text/plain": [
              "   customer_id        date  total_amount_billed payment_status_purchase  \\\n",
              "0          101  04/01/2021                100.0                    paid   \n",
              "1          102  04/02/2021                200.0                    paid   \n",
              "2          103  04/02/2021                 50.0                 overdue   \n",
              "3          104  04/03/2021                 75.0                disputed   \n",
              "4          105  04/04/2021                125.0                    paid   \n",
              "\n",
              "  payment_method_purchase promo_code country  amount_paid  \\\n",
              "0             credit card     PROMO1     USA        100.0   \n",
              "1           bank transfer     PROMO2     USA          NaN   \n",
              "2             credit card        NaN      UK          NaN   \n",
              "3                e-wallet     PROMO3      UK          NaN   \n",
              "4             credit card     PROMO4     USA          NaN   \n",
              "\n",
              "  payment_method_payment payment_status_payment  late_payment_fee  \\\n",
              "0            credit card                   paid               0.0   \n",
              "1                    NaN                    NaN               NaN   \n",
              "2                    NaN                    NaN               NaN   \n",
              "3                    NaN                    NaN               NaN   \n",
              "4                    NaN                    NaN               NaN   \n",
              "\n",
              "   refund_amount reason_for_refund  \n",
              "0            NaN               NaN  \n",
              "1            NaN               NaN  \n",
              "2            NaN               NaN  \n",
              "3            NaN               NaN  \n",
              "4            NaN               NaN  "
            ],
            "text/html": [
              "\n",
              "  <div id=\"df-8e31c44e-33d4-45e0-a1a6-5c314d2e9e2c\">\n",
              "    <div class=\"colab-df-container\">\n",
              "      <div>\n",
              "<style scoped>\n",
              "    .dataframe tbody tr th:only-of-type {\n",
              "        vertical-align: middle;\n",
              "    }\n",
              "\n",
              "    .dataframe tbody tr th {\n",
              "        vertical-align: top;\n",
              "    }\n",
              "\n",
              "    .dataframe thead th {\n",
              "        text-align: right;\n",
              "    }\n",
              "</style>\n",
              "<table border=\"1\" class=\"dataframe\">\n",
              "  <thead>\n",
              "    <tr style=\"text-align: right;\">\n",
              "      <th></th>\n",
              "      <th>customer_id</th>\n",
              "      <th>date</th>\n",
              "      <th>total_amount_billed</th>\n",
              "      <th>payment_status_purchase</th>\n",
              "      <th>payment_method_purchase</th>\n",
              "      <th>promo_code</th>\n",
              "      <th>country</th>\n",
              "      <th>amount_paid</th>\n",
              "      <th>payment_method_payment</th>\n",
              "      <th>payment_status_payment</th>\n",
              "      <th>late_payment_fee</th>\n",
              "      <th>refund_amount</th>\n",
              "      <th>reason_for_refund</th>\n",
              "    </tr>\n",
              "  </thead>\n",
              "  <tbody>\n",
              "    <tr>\n",
              "      <th>0</th>\n",
              "      <td>101</td>\n",
              "      <td>04/01/2021</td>\n",
              "      <td>100.0</td>\n",
              "      <td>paid</td>\n",
              "      <td>credit card</td>\n",
              "      <td>PROMO1</td>\n",
              "      <td>USA</td>\n",
              "      <td>100.0</td>\n",
              "      <td>credit card</td>\n",
              "      <td>paid</td>\n",
              "      <td>0.0</td>\n",
              "      <td>NaN</td>\n",
              "      <td>NaN</td>\n",
              "    </tr>\n",
              "    <tr>\n",
              "      <th>1</th>\n",
              "      <td>102</td>\n",
              "      <td>04/02/2021</td>\n",
              "      <td>200.0</td>\n",
              "      <td>paid</td>\n",
              "      <td>bank transfer</td>\n",
              "      <td>PROMO2</td>\n",
              "      <td>USA</td>\n",
              "      <td>NaN</td>\n",
              "      <td>NaN</td>\n",
              "      <td>NaN</td>\n",
              "      <td>NaN</td>\n",
              "      <td>NaN</td>\n",
              "      <td>NaN</td>\n",
              "    </tr>\n",
              "    <tr>\n",
              "      <th>2</th>\n",
              "      <td>103</td>\n",
              "      <td>04/02/2021</td>\n",
              "      <td>50.0</td>\n",
              "      <td>overdue</td>\n",
              "      <td>credit card</td>\n",
              "      <td>NaN</td>\n",
              "      <td>UK</td>\n",
              "      <td>NaN</td>\n",
              "      <td>NaN</td>\n",
              "      <td>NaN</td>\n",
              "      <td>NaN</td>\n",
              "      <td>NaN</td>\n",
              "      <td>NaN</td>\n",
              "    </tr>\n",
              "    <tr>\n",
              "      <th>3</th>\n",
              "      <td>104</td>\n",
              "      <td>04/03/2021</td>\n",
              "      <td>75.0</td>\n",
              "      <td>disputed</td>\n",
              "      <td>e-wallet</td>\n",
              "      <td>PROMO3</td>\n",
              "      <td>UK</td>\n",
              "      <td>NaN</td>\n",
              "      <td>NaN</td>\n",
              "      <td>NaN</td>\n",
              "      <td>NaN</td>\n",
              "      <td>NaN</td>\n",
              "      <td>NaN</td>\n",
              "    </tr>\n",
              "    <tr>\n",
              "      <th>4</th>\n",
              "      <td>105</td>\n",
              "      <td>04/04/2021</td>\n",
              "      <td>125.0</td>\n",
              "      <td>paid</td>\n",
              "      <td>credit card</td>\n",
              "      <td>PROMO4</td>\n",
              "      <td>USA</td>\n",
              "      <td>NaN</td>\n",
              "      <td>NaN</td>\n",
              "      <td>NaN</td>\n",
              "      <td>NaN</td>\n",
              "      <td>NaN</td>\n",
              "      <td>NaN</td>\n",
              "    </tr>\n",
              "  </tbody>\n",
              "</table>\n",
              "</div>\n",
              "      <button class=\"colab-df-convert\" onclick=\"convertToInteractive('df-8e31c44e-33d4-45e0-a1a6-5c314d2e9e2c')\"\n",
              "              title=\"Convert this dataframe to an interactive table.\"\n",
              "              style=\"display:none;\">\n",
              "        \n",
              "  <svg xmlns=\"http://www.w3.org/2000/svg\" height=\"24px\"viewBox=\"0 0 24 24\"\n",
              "       width=\"24px\">\n",
              "    <path d=\"M0 0h24v24H0V0z\" fill=\"none\"/>\n",
              "    <path d=\"M18.56 5.44l.94 2.06.94-2.06 2.06-.94-2.06-.94-.94-2.06-.94 2.06-2.06.94zm-11 1L8.5 8.5l.94-2.06 2.06-.94-2.06-.94L8.5 2.5l-.94 2.06-2.06.94zm10 10l.94 2.06.94-2.06 2.06-.94-2.06-.94-.94-2.06-.94 2.06-2.06.94z\"/><path d=\"M17.41 7.96l-1.37-1.37c-.4-.4-.92-.59-1.43-.59-.52 0-1.04.2-1.43.59L10.3 9.45l-7.72 7.72c-.78.78-.78 2.05 0 2.83L4 21.41c.39.39.9.59 1.41.59.51 0 1.02-.2 1.41-.59l7.78-7.78 2.81-2.81c.8-.78.8-2.07 0-2.86zM5.41 20L4 18.59l7.72-7.72 1.47 1.35L5.41 20z\"/>\n",
              "  </svg>\n",
              "      </button>\n",
              "      \n",
              "  <style>\n",
              "    .colab-df-container {\n",
              "      display:flex;\n",
              "      flex-wrap:wrap;\n",
              "      gap: 12px;\n",
              "    }\n",
              "\n",
              "    .colab-df-convert {\n",
              "      background-color: #E8F0FE;\n",
              "      border: none;\n",
              "      border-radius: 50%;\n",
              "      cursor: pointer;\n",
              "      display: none;\n",
              "      fill: #1967D2;\n",
              "      height: 32px;\n",
              "      padding: 0 0 0 0;\n",
              "      width: 32px;\n",
              "    }\n",
              "\n",
              "    .colab-df-convert:hover {\n",
              "      background-color: #E2EBFA;\n",
              "      box-shadow: 0px 1px 2px rgba(60, 64, 67, 0.3), 0px 1px 3px 1px rgba(60, 64, 67, 0.15);\n",
              "      fill: #174EA6;\n",
              "    }\n",
              "\n",
              "    [theme=dark] .colab-df-convert {\n",
              "      background-color: #3B4455;\n",
              "      fill: #D2E3FC;\n",
              "    }\n",
              "\n",
              "    [theme=dark] .colab-df-convert:hover {\n",
              "      background-color: #434B5C;\n",
              "      box-shadow: 0px 1px 3px 1px rgba(0, 0, 0, 0.15);\n",
              "      filter: drop-shadow(0px 1px 2px rgba(0, 0, 0, 0.3));\n",
              "      fill: #FFFFFF;\n",
              "    }\n",
              "  </style>\n",
              "\n",
              "      <script>\n",
              "        const buttonEl =\n",
              "          document.querySelector('#df-8e31c44e-33d4-45e0-a1a6-5c314d2e9e2c button.colab-df-convert');\n",
              "        buttonEl.style.display =\n",
              "          google.colab.kernel.accessAllowed ? 'block' : 'none';\n",
              "\n",
              "        async function convertToInteractive(key) {\n",
              "          const element = document.querySelector('#df-8e31c44e-33d4-45e0-a1a6-5c314d2e9e2c');\n",
              "          const dataTable =\n",
              "            await google.colab.kernel.invokeFunction('convertToInteractive',\n",
              "                                                     [key], {});\n",
              "          if (!dataTable) return;\n",
              "\n",
              "          const docLinkHtml = 'Like what you see? Visit the ' +\n",
              "            '<a target=\"_blank\" href=https://colab.research.google.com/notebooks/data_table.ipynb>data table notebook</a>'\n",
              "            + ' to learn more about interactive tables.';\n",
              "          element.innerHTML = '';\n",
              "          dataTable['output_type'] = 'display_data';\n",
              "          await google.colab.output.renderOutput(dataTable, element);\n",
              "          const docLink = document.createElement('div');\n",
              "          docLink.innerHTML = docLinkHtml;\n",
              "          element.appendChild(docLink);\n",
              "        }\n",
              "      </script>\n",
              "    </div>\n",
              "  </div>\n",
              "  "
            ]
          },
          "metadata": {},
          "execution_count": 27
        }
      ]
    },
    {
      "cell_type": "code",
      "source": [
        "merged_dataset.columns"
      ],
      "metadata": {
        "colab": {
          "base_uri": "https://localhost:8080/"
        },
        "id": "CpJUjxTRLoh_",
        "outputId": "59d2be67-1534-4b62-990c-76466a4aa9c6"
      },
      "execution_count": 28,
      "outputs": [
        {
          "output_type": "execute_result",
          "data": {
            "text/plain": [
              "Index(['customer_id', 'date', 'total_amount_billed', 'payment_status_purchase',\n",
              "       'payment_method_purchase', 'promo_code', 'country', 'amount_paid',\n",
              "       'payment_method_payment', 'payment_status_payment', 'late_payment_fee',\n",
              "       'refund_amount', 'reason_for_refund'],\n",
              "      dtype='object')"
            ]
          },
          "metadata": {},
          "execution_count": 28
        }
      ]
    },
    {
      "cell_type": "code",
      "source": [
        "# Replace missing values in amount paid with 0\n",
        "merged_dataset['amount_payment'].fillna(value=0, inplace=True)\n",
        "\n",
        "# Replace missing values in late payment fee with 0\n",
        "merged_dataset['late_payment_fee'].fillna(value=0, inplace=True)\n",
        "\n",
        "# Replace missing values in promo code with 'NA'\n",
        "merged_dataset['promo_code'].fillna(value='NA', inplace=True)\n",
        "\n",
        "# Replace missing values in reason for refund with 'NA'\n",
        "merged_dataset['reason_for_refund'].fillna(value='NA', inplace=True)"
      ],
      "metadata": {
        "id": "5atiZbAbLzRv"
      },
      "execution_count": null,
      "outputs": []
    },
    {
      "cell_type": "markdown",
      "source": [
        "##Data Transformation"
      ],
      "metadata": {
        "id": "xFPCYcxKO2iT"
      }
    },
    {
      "cell_type": "code",
      "source": [
        "merged_dataset['date'] = pd.to_datetime(merged_dataset['date'], format='%m/%d/%Y')\n",
        "\n",
        "# Convert Total amount billed, Amount paid, Refund amount, and Late payment fee to float\n",
        "merged_dataset['total_amount_purchase'] = pd.to_numeric(merged_dataset['total_amount_purchase'], errors='coerce')\n",
        "merged_dataset['amount_payment'] = pd.to_numeric(merged_dataset['amount_payment'], errors='coerce')\n",
        "merged_dataset['total_amount'] = pd.to_numeric(merged_dataset['total_amount'], errors='coerce')\n",
        "merged_dataset['late_payment_fee'] = pd.to_numeric(merged_dataset['late_payment_fee'], errors='coerce')"
      ],
      "metadata": {
        "id": "m1NfDolkO57M"
      },
      "execution_count": null,
      "outputs": []
    },
    {
      "cell_type": "code",
      "source": [
        "# Compute balance due as the difference between Total amount billed and Amount paid\n",
        "merged_dataset['balance_due'] = merged_dataset['total_amount_purchase'] - merged_dataset['amount_payment']"
      ],
      "metadata": {
        "id": "rdemLO5-OzSv"
      },
      "execution_count": null,
      "outputs": []
    },
    {
      "cell_type": "code",
      "source": [
        "# Filter the data and keep only the rows where Balance due is greater than 0\n",
        "merged_dataset = merged_dataset[merged_dataset['balance_due'] > 0]"
      ],
      "metadata": {
        "id": "2XMfYYEaQzPN"
      },
      "execution_count": null,
      "outputs": []
    },
    {
      "cell_type": "markdown",
      "source": [
        "##Final Pipeline Output"
      ],
      "metadata": {
        "id": "4KWz1z_-RARt"
      }
    },
    {
      "cell_type": "code",
      "source": [
        "# Output the data to a CSV file\n",
        "merged_dataset.to_csv('billing_data.csv', index=False)"
      ],
      "metadata": {
        "id": "z1ZFMC-7PHur"
      },
      "execution_count": null,
      "outputs": []
    }
  ]
}